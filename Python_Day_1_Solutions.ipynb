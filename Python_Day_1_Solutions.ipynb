{
 "cells": [
  {
   "cell_type": "code",
   "execution_count": 2,
   "id": "d1ea3750-7475-4738-aec5-61f91bd3a1d7",
   "metadata": {},
   "outputs": [
    {
     "name": "stdin",
     "output_type": "stream",
     "text": [
      "Please Enter your first name?  abhishek\n"
     ]
    },
    {
     "name": "stdout",
     "output_type": "stream",
     "text": [
      "Hello abhishek .\n",
      "Hello abhishek.\n"
     ]
    }
   ],
   "source": [
    "#001 Ask for the user’s first name and display the output message Hello [First Name]. -- Single line comment\n",
    "\n",
    "\n",
    "first_name = input('Please Enter your first name? ')\n",
    "# print(\"Hello\",first_name,'.')\n",
    "print(\"Hello\" + ' '+ first_name+'.')\n",
    "\n"
   ]
  },
  {
   "cell_type": "code",
   "execution_count": 3,
   "id": "b9652818-b5e3-4706-a9eb-7dcb84f05c2f",
   "metadata": {},
   "outputs": [
    {
     "name": "stdin",
     "output_type": "stream",
     "text": [
      "Please Enter your first name?  Abhishek\n",
      "Please Enter your surname?  Upadhayay\n"
     ]
    },
    {
     "name": "stdout",
     "output_type": "stream",
     "text": [
      "Hello Abhishek Upadhayay\n"
     ]
    }
   ],
   "source": [
    "#002 Ask for the user’s first name and then ask for their surname and display the\n",
    "# output message\n",
    "# Hello [First Name] [Surname].\n",
    "\n",
    "first_name = input('Please Enter your first name? ')\n",
    "sur_name = input(\"Please Enter your surname? \")\n",
    "# print(\"Hello\",first_name,'.')\n",
    "print(\"Hello\" + ' '+ first_name+' '+sur_name)"
   ]
  },
  {
   "cell_type": "code",
   "execution_count": 5,
   "id": "e01ac805-3d7b-46e2-a7e8-bfffca9df6cf",
   "metadata": {},
   "outputs": [
    {
     "name": "stdout",
     "output_type": "stream",
     "text": [
      "Hello World!\n",
      "Hello World!\n",
      "Hello World!\n"
     ]
    }
   ],
   "source": [
    "# print(\"Hello World!\")\n",
    "# print(\"Hello World!\")\n",
    "# print(\"Hello World!\")\n",
    "\n",
    "print(\"Hello World!\\nHello World!\\nHello World!\")"
   ]
  },
  {
   "cell_type": "code",
   "execution_count": 6,
   "id": "3d9caee0-260a-4521-af18-8bfc22b49155",
   "metadata": {},
   "outputs": [
    {
     "name": "stdout",
     "output_type": "stream",
     "text": [
      "What do you call a bear with no teeth?\n",
      "A gummy bear!\n"
     ]
    }
   ],
   "source": [
    "# 003 Write code that will display the joke “What do you call a bear with no teeth?”\n",
    "# and on the next line display the answer “A gummy bear!”\n",
    "\n",
    "#Try to create it using only one line of code.\n",
    "\n",
    "print(\"What do you call a bear with no teeth?\\nA gummy bear!\")"
   ]
  },
  {
   "cell_type": "code",
   "execution_count": 7,
   "id": "fbc0668c-ac95-4a1b-beb7-a428d5261f80",
   "metadata": {},
   "outputs": [
    {
     "name": "stdin",
     "output_type": "stream",
     "text": [
      "Enter the number of days:  15\n"
     ]
    },
    {
     "name": "stdout",
     "output_type": "stream",
     "text": [
      "In 15 days there are...\n",
      "360 hours\n",
      "21600 minutes\n",
      "1296000 seconds\n"
     ]
    }
   ],
   "source": [
    "#009 Write a program that will ask for a number of days and then will show how\n",
    "#many hours, minutes and seconds are in that number of days.\n",
    "\n",
    "\n",
    "days = int(input(\"Enter the number of days: \"))\n",
    "hours = days*24\n",
    "minutes = hours*60\n",
    "seconds = minutes*60\n",
    "print(\"In\", days,\"days there are...\")\n",
    "print(hours, \"hours\")\n",
    "print(minutes, \"minutes\")\n",
    "print(seconds, \"seconds\")"
   ]
  },
  {
   "cell_type": "code",
   "execution_count": 8,
   "id": "b56be65e-3985-4ea7-9d88-0c5a25c9f311",
   "metadata": {},
   "outputs": [
    {
     "name": "stdin",
     "output_type": "stream",
     "text": [
      "Enter the number of kilos:  65\n"
     ]
    },
    {
     "name": "stdout",
     "output_type": "stream",
     "text": [
      "That is 143.26000000000002 pounds.\n"
     ]
    }
   ],
   "source": [
    "# 010 There are 2,204 pounds in a kilogram. Ask the user to enter a weight in\n",
    "# kilograms and convert it to pounds.\n",
    "\n",
    "kilo = int(input(\"Enter the number of kilos: \"))\n",
    "pound = kilo * 2.204\n",
    "print(\"That is\", pound,\"pounds.\")\n"
   ]
  },
  {
   "cell_type": "code",
   "execution_count": 9,
   "id": "f6dcbc54-f202-4eec-ac4c-a54d7168d19b",
   "metadata": {},
   "outputs": [
    {
     "name": "stdin",
     "output_type": "stream",
     "text": [
      "Enter a number greater than 100:  135\n",
      "Enter a number less than 10:  2\n"
     ]
    },
    {
     "name": "stdout",
     "output_type": "stream",
     "text": [
      "2 goes into 135 67 time.\n"
     ]
    }
   ],
   "source": [
    "# 011 Task the user to enter a number over 100 and then enter a number under 10\n",
    "# and tell them how many times the smaller number goes into the larger number in\n",
    "# a user-friendly format.\n",
    "\n",
    "larger = int(input(\"Enter a number greater than 100: \"))\n",
    "smaller = int(input(\"Enter a number less than 10: \"))\n",
    "answer = larger // smaller\n",
    "print(smaller, \"goes into\", larger, answer,\"time.\")"
   ]
  },
  {
   "cell_type": "code",
   "execution_count": 10,
   "id": "29941a27-8f9c-4631-ace1-f15ddf2c0ff4",
   "metadata": {},
   "outputs": [
    {
     "data": {
      "text/plain": [
       "134"
      ]
     },
     "execution_count": 10,
     "metadata": {},
     "output_type": "execute_result"
    }
   ],
   "source": [
    "67*2"
   ]
  },
  {
   "cell_type": "code",
   "execution_count": null,
   "id": "c5991e81-fe3d-4008-8e05-4ee4c94e8881",
   "metadata": {},
   "outputs": [],
   "source": []
  }
 ],
 "metadata": {
  "kernelspec": {
   "display_name": "Python 3 (ipykernel)",
   "language": "python",
   "name": "python3"
  },
  "language_info": {
   "codemirror_mode": {
    "name": "ipython",
    "version": 3
   },
   "file_extension": ".py",
   "mimetype": "text/x-python",
   "name": "python",
   "nbconvert_exporter": "python",
   "pygments_lexer": "ipython3",
   "version": "3.11.7"
  }
 },
 "nbformat": 4,
 "nbformat_minor": 5
}
