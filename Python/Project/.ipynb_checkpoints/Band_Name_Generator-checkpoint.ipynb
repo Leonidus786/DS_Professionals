{
 "cells": [
  {
   "cell_type": "markdown",
   "id": "ead58d88-148e-46f0-90d2-6ad216dcec26",
   "metadata": {},
   "source": [
    "## print a greeting for your code\n",
    "## Ask user to give a city name.\n",
    "## Ask user to give his/her pet's name \n",
    "## Combine the name and show the value as\n",
    "## \"Your band name could be : Band_Name"
   ]
  },
  {
   "cell_type": "code",
   "execution_count": 2,
   "id": "50255e6a-895f-4e6a-be83-4340740f9893",
   "metadata": {},
   "outputs": [
    {
     "name": "stdout",
     "output_type": "stream",
     "text": [
      "Welcome to Band Name Generator\n"
     ]
    },
    {
     "name": "stdin",
     "output_type": "stream",
     "text": [
      "In which city did you grew up?\n",
      " Siwan\n",
      "What is your pet name?\n",
      " Jack\n"
     ]
    },
    {
     "name": "stdout",
     "output_type": "stream",
     "text": [
      "Your band name should be : SiwanJack\n"
     ]
    }
   ],
   "source": [
    "print(\"Welcome to Band Name Generator\")\n",
    "city_name = input(\"In which city did you grew up?\\n\")\n",
    "pet = input(\"What is your pet name?\\n\")\n",
    "band_name = city_name + pet\n",
    "print(\"Your band name should be : {}\".format(band_name))"
   ]
  },
  {
   "cell_type": "code",
   "execution_count": null,
   "id": "f36e96f6-35fc-4936-92be-ed58a542a2bb",
   "metadata": {},
   "outputs": [],
   "source": []
  }
 ],
 "metadata": {
  "kernelspec": {
   "display_name": "Python 3 (ipykernel)",
   "language": "python",
   "name": "python3"
  },
  "language_info": {
   "codemirror_mode": {
    "name": "ipython",
    "version": 3
   },
   "file_extension": ".py",
   "mimetype": "text/x-python",
   "name": "python",
   "nbconvert_exporter": "python",
   "pygments_lexer": "ipython3",
   "version": "3.11.7"
  }
 },
 "nbformat": 4,
 "nbformat_minor": 5
}
