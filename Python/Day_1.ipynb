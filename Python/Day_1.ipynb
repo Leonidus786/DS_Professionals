{
 "cells": [
  {
   "cell_type": "markdown",
   "id": "75a29fc0-9a01-4127-b09a-c5d919413e84",
   "metadata": {},
   "source": [
    "# Whatever you going to put inside double brackets it will be treted as strings.\n",
    "# print()--> This is a output function\n",
    "# Jo kch v ap screen pe dekhna chahte h."
   ]
  },
  {
   "cell_type": "code",
   "execution_count": 1,
   "id": "5301d245-d08e-4a7d-b790-39c7e2070ff7",
   "metadata": {},
   "outputs": [
    {
     "name": "stdout",
     "output_type": "stream",
     "text": [
      "hello World!\n"
     ]
    }
   ],
   "source": [
    "print(\"hello World!\")"
   ]
  },
  {
   "cell_type": "code",
   "execution_count": 2,
   "id": "876ff762-16e8-40d8-a206-31533436aeec",
   "metadata": {},
   "outputs": [
    {
     "name": "stdout",
     "output_type": "stream",
     "text": [
      "Amit\n"
     ]
    }
   ],
   "source": [
    "print('Amit')"
   ]
  },
  {
   "cell_type": "code",
   "execution_count": 3,
   "id": "8d85b0a7-8bf2-45de-a992-3ee7013492b0",
   "metadata": {},
   "outputs": [
    {
     "name": "stdout",
     "output_type": "stream",
     "text": [
      "What is your name\n"
     ]
    }
   ],
   "source": [
    "print(\"What is your name?\")"
   ]
  },
  {
   "cell_type": "markdown",
   "id": "7c21a1f5-4ee3-4827-a8bc-0725a0a64618",
   "metadata": {},
   "source": [
    "## Shortcut for adding cells inside colab, jupyter notebook\n",
    "## select the cell and press 'A'.\n",
    "## input() -- Input function takes input from users"
   ]
  },
  {
   "cell_type": "code",
   "execution_count": 16,
   "id": "979a5f07-e827-4c09-9716-14b932feabd0",
   "metadata": {},
   "outputs": [
    {
     "name": "stdin",
     "output_type": "stream",
     "text": [
      "What is your name? Amit\n"
     ]
    },
    {
     "data": {
      "text/plain": [
       "'Amit'"
      ]
     },
     "execution_count": 16,
     "metadata": {},
     "output_type": "execute_result"
    }
   ],
   "source": [
    "input(\"What is your name?\")"
   ]
  },
  {
   "cell_type": "code",
   "execution_count": 5,
   "id": "5fefadda-c510-4823-a142-54aabbec7a37",
   "metadata": {},
   "outputs": [],
   "source": [
    "# Variables ---> It is a container which hold some value inside our computer's memory.\n",
    "\n",
    "# Vari + Able ---> You can change anytime\n",
    "\n",
    "a = 24\n",
    "\n",
    "b = 'Amit'"
   ]
  },
  {
   "cell_type": "code",
   "execution_count": 6,
   "id": "524c1fba-877c-4c9d-a9a9-168cd7243516",
   "metadata": {},
   "outputs": [
    {
     "data": {
      "text/plain": [
       "24"
      ]
     },
     "execution_count": 6,
     "metadata": {},
     "output_type": "execute_result"
    }
   ],
   "source": [
    "a"
   ]
  },
  {
   "cell_type": "code",
   "execution_count": 7,
   "id": "9c5d8ecb-8621-439f-9672-a298d571ace5",
   "metadata": {},
   "outputs": [
    {
     "data": {
      "text/plain": [
       "'Amit'"
      ]
     },
     "execution_count": 7,
     "metadata": {},
     "output_type": "execute_result"
    }
   ],
   "source": [
    "b"
   ]
  },
  {
   "cell_type": "code",
   "execution_count": 8,
   "id": "2594fa47-837a-48cb-b9ac-deac67a29380",
   "metadata": {},
   "outputs": [],
   "source": [
    "a = 55"
   ]
  },
  {
   "cell_type": "code",
   "execution_count": 9,
   "id": "56db4993-1d0c-49f2-be5f-da8754169d56",
   "metadata": {},
   "outputs": [],
   "source": [
    "b = 78"
   ]
  },
  {
   "cell_type": "code",
   "execution_count": 10,
   "id": "d3c492ab-0fb8-4532-9d0a-bd65c6fb0665",
   "metadata": {},
   "outputs": [
    {
     "data": {
      "text/plain": [
       "55"
      ]
     },
     "execution_count": 10,
     "metadata": {},
     "output_type": "execute_result"
    }
   ],
   "source": [
    "# this is not recommended\n",
    "a"
   ]
  },
  {
   "cell_type": "code",
   "execution_count": 13,
   "id": "eceeafa8-ba8a-4716-a0f8-05c61d850d87",
   "metadata": {},
   "outputs": [
    {
     "name": "stdout",
     "output_type": "stream",
     "text": [
      "78\n"
     ]
    }
   ],
   "source": [
    "# print()\n",
    "print(b)"
   ]
  },
  {
   "cell_type": "code",
   "execution_count": 14,
   "id": "8f8725ef-0946-4888-9c2a-cc5605882ed5",
   "metadata": {},
   "outputs": [
    {
     "name": "stdout",
     "output_type": "stream",
     "text": [
      "140725289798120\n"
     ]
    }
   ],
   "source": [
    "# Location -- to get the location of a variable.\n",
    "print(id(a))"
   ]
  },
  {
   "cell_type": "code",
   "execution_count": 15,
   "id": "374693e1-f38c-4eee-a5d3-ab1530461b69",
   "metadata": {},
   "outputs": [
    {
     "name": "stdout",
     "output_type": "stream",
     "text": [
      "140725289798856\n"
     ]
    }
   ],
   "source": [
    "print(id(b))"
   ]
  },
  {
   "cell_type": "code",
   "execution_count": 17,
   "id": "dd99d249-b99e-4b7e-b839-bd231199e02a",
   "metadata": {},
   "outputs": [],
   "source": [
    "a = \"Amit\""
   ]
  },
  {
   "cell_type": "code",
   "execution_count": 19,
   "id": "2f8c410d-271a-4685-b06b-3a6428fc54f2",
   "metadata": {},
   "outputs": [
    {
     "name": "stdout",
     "output_type": "stream",
     "text": [
      "<class 'str'>\n"
     ]
    }
   ],
   "source": [
    "# type of a variable type()\n",
    "print(type(a))"
   ]
  },
  {
   "cell_type": "markdown",
   "id": "b74bd29b-6aaf-476a-8925-57c4f0f8f6d3",
   "metadata": {},
   "source": [
    "# String -- It is set of (collection of) characters.\n",
    "# characters -- > A-Z, a-z\n",
    "# Ex - 'Amit', \"Amit\" \n",
    "## Whatever you put inside single/ double quotes it will be treated as strings"
   ]
  },
  {
   "cell_type": "code",
   "execution_count": 20,
   "id": "d10a119c-8114-4632-8c14-a8e81fd9b236",
   "metadata": {},
   "outputs": [
    {
     "name": "stdout",
     "output_type": "stream",
     "text": [
      "4\n"
     ]
    }
   ],
   "source": [
    "# How many characters are there\n",
    "\n",
    "print(len(a))"
   ]
  },
  {
   "cell_type": "code",
   "execution_count": 23,
   "id": "c678587c-b20b-4776-924f-7969c9c1b9d2",
   "metadata": {},
   "outputs": [],
   "source": [
    "b = \"This is  a mango.\""
   ]
  },
  {
   "cell_type": "code",
   "execution_count": 24,
   "id": "6e249905-9323-49f2-be06-fa00fc4bc314",
   "metadata": {},
   "outputs": [
    {
     "name": "stdout",
     "output_type": "stream",
     "text": [
      "17\n"
     ]
    }
   ],
   "source": [
    "print(len(b))"
   ]
  },
  {
   "cell_type": "code",
   "execution_count": 31,
   "id": "7d1b70dc-c31d-4f61-9788-3c2798d1a381",
   "metadata": {},
   "outputs": [
    {
     "data": {
      "text/plain": [
       "'Amit'"
      ]
     },
     "execution_count": 31,
     "metadata": {},
     "output_type": "execute_result"
    }
   ],
   "source": [
    "# Slicing --> to get a part of string\n",
    "# Indexing -- to get a particular element\n",
    "a"
   ]
  },
  {
   "cell_type": "code",
   "execution_count": 27,
   "id": "1ecd2a47-d522-47af-bac2-714013d79c30",
   "metadata": {},
   "outputs": [
    {
     "name": "stdout",
     "output_type": "stream",
     "text": [
      "Amit\n"
     ]
    }
   ],
   "source": [
    "# Start[Start:End] --> start should be icluded and end will not means it's excluded.\n",
    "print(a[0:])"
   ]
  },
  {
   "cell_type": "code",
   "execution_count": 28,
   "id": "50d443a3-71a2-4ae1-85d1-05df0666d5f6",
   "metadata": {},
   "outputs": [
    {
     "name": "stdout",
     "output_type": "stream",
     "text": [
      "Ami\n"
     ]
    }
   ],
   "source": [
    "print(a[0:3])"
   ]
  },
  {
   "cell_type": "code",
   "execution_count": 29,
   "id": "b1eead83-fc60-4253-977b-2a2288eb73f8",
   "metadata": {},
   "outputs": [
    {
     "name": "stdout",
     "output_type": "stream",
     "text": [
      "Amit\n"
     ]
    }
   ],
   "source": [
    "print(a[:])"
   ]
  },
  {
   "cell_type": "code",
   "execution_count": 30,
   "id": "6e54d26d-f337-485a-88d7-18bf4febf45f",
   "metadata": {},
   "outputs": [
    {
     "name": "stdout",
     "output_type": "stream",
     "text": [
      "Am\n"
     ]
    }
   ],
   "source": [
    "print(a[:2])"
   ]
  },
  {
   "cell_type": "code",
   "execution_count": 33,
   "id": "04fe53d2-ce75-4411-a261-2ae6f4116f6a",
   "metadata": {},
   "outputs": [
    {
     "name": "stdout",
     "output_type": "stream",
     "text": [
      "A\n"
     ]
    }
   ],
   "source": [
    "# indexing\n",
    "print(a[0])"
   ]
  },
  {
   "cell_type": "code",
   "execution_count": 34,
   "id": "abfef218-750d-46ec-85b3-cf65c7d06a26",
   "metadata": {},
   "outputs": [
    {
     "name": "stdout",
     "output_type": "stream",
     "text": [
      "it\n"
     ]
    }
   ],
   "source": [
    "# Negative slicing\n",
    "\n",
    "print(a[-2:])"
   ]
  },
  {
   "cell_type": "code",
   "execution_count": 35,
   "id": "7c515db6-d5a5-4f3f-8a7f-21b1e75afea8",
   "metadata": {},
   "outputs": [
    {
     "name": "stdout",
     "output_type": "stream",
     "text": [
      "Amit\n"
     ]
    }
   ],
   "source": [
    "print(a[-4:])"
   ]
  },
  {
   "cell_type": "code",
   "execution_count": 36,
   "id": "3d263653-a733-43af-b51b-7f7d81d8cde2",
   "metadata": {},
   "outputs": [
    {
     "name": "stdout",
     "output_type": "stream",
     "text": [
      "Ambt\n"
     ]
    }
   ],
   "source": [
    "# changing the value -- replacing a value\n",
    "\n",
    "print(a.replace(\"i\",\"b\"))"
   ]
  },
  {
   "cell_type": "code",
   "execution_count": 42,
   "id": "c4e4936f-8245-4bf7-b2dc-b8ea0935d631",
   "metadata": {},
   "outputs": [
    {
     "data": {
      "text/plain": [
       "'Abhishek'"
      ]
     },
     "execution_count": 42,
     "metadata": {},
     "output_type": "execute_result"
    }
   ],
   "source": [
    "# Combining two or more strings together -- concatenation\n",
    "a = \"Abhi\"\n",
    "b = \"shek\"\n",
    "c = a + b\n",
    "c"
   ]
  },
  {
   "cell_type": "code",
   "execution_count": 39,
   "id": "3bf61176-6b26-4973-aeac-71bae219e840",
   "metadata": {},
   "outputs": [
    {
     "name": "stdin",
     "output_type": "stream",
     "text": [
      "What is your Name?  Amit\n"
     ]
    },
    {
     "name": "stdout",
     "output_type": "stream",
     "text": [
      "Amit\n"
     ]
    }
   ],
   "source": [
    "print(input(\"What is your Name? \"))"
   ]
  },
  {
   "cell_type": "code",
   "execution_count": 40,
   "id": "8ee5bdd9-413b-47de-85c0-32d5553f5cf6",
   "metadata": {},
   "outputs": [
    {
     "name": "stdout",
     "output_type": "stream",
     "text": [
      "your name is Abhi + shek.\n"
     ]
    }
   ],
   "source": [
    "# format()\n",
    "print(\"your name is {} + {}.\".format(a,b))"
   ]
  },
  {
   "cell_type": "code",
   "execution_count": 43,
   "id": "f069d722-c273-44bd-bca8-4b9ce3fe526b",
   "metadata": {},
   "outputs": [
    {
     "name": "stdout",
     "output_type": "stream",
     "text": [
      "your name is Abhishek.\n"
     ]
    }
   ],
   "source": [
    "# format()\n",
    "print(\"your name is {}.\".format(c))"
   ]
  },
  {
   "cell_type": "code",
   "execution_count": 44,
   "id": "1341f248-3884-43ab-b3ec-1aa1f96c9f9c",
   "metadata": {},
   "outputs": [
    {
     "data": {
      "text/plain": [
       "'Abhishek'"
      ]
     },
     "execution_count": 44,
     "metadata": {},
     "output_type": "execute_result"
    }
   ],
   "source": [
    "c"
   ]
  },
  {
   "cell_type": "code",
   "execution_count": 45,
   "id": "e4066163-901e-4f8c-9aea-a94b5dc5eb51",
   "metadata": {},
   "outputs": [
    {
     "data": {
      "text/plain": [
       "'ABHISHEK'"
      ]
     },
     "execution_count": 45,
     "metadata": {},
     "output_type": "execute_result"
    }
   ],
   "source": [
    "# upper()\n",
    "c.upper()"
   ]
  },
  {
   "cell_type": "code",
   "execution_count": 47,
   "id": "bce00445-55f9-4d7f-96fa-a6d9d3013710",
   "metadata": {},
   "outputs": [],
   "source": [
    "# lower()\n",
    "d = c.lower()"
   ]
  },
  {
   "cell_type": "code",
   "execution_count": 48,
   "id": "a18183bd-3ab0-4919-9841-0eb052e0c3f7",
   "metadata": {},
   "outputs": [
    {
     "data": {
      "text/plain": [
       "'abhishek'"
      ]
     },
     "execution_count": 48,
     "metadata": {},
     "output_type": "execute_result"
    }
   ],
   "source": [
    "d"
   ]
  },
  {
   "cell_type": "code",
   "execution_count": 49,
   "id": "a62c11e5-93d2-4875-a3aa-8f357f743edc",
   "metadata": {},
   "outputs": [
    {
     "data": {
      "text/plain": [
       "'Abhishek'"
      ]
     },
     "execution_count": 49,
     "metadata": {},
     "output_type": "execute_result"
    }
   ],
   "source": [
    "d.capitalize()"
   ]
  },
  {
   "cell_type": "code",
   "execution_count": 50,
   "id": "867ccee1-4ce8-4733-8d8b-e8685af223f7",
   "metadata": {},
   "outputs": [
    {
     "data": {
      "text/plain": [
       "'abhishek'"
      ]
     },
     "execution_count": 50,
     "metadata": {},
     "output_type": "execute_result"
    }
   ],
   "source": [
    "d"
   ]
  },
  {
   "cell_type": "code",
   "execution_count": 51,
   "id": "f00363e0-5291-422f-b32e-42ff7228036f",
   "metadata": {},
   "outputs": [],
   "source": [
    "# Primitive data types -- str, int, float, bool\n",
    "\n",
    "a = \"Hen\"\n",
    "b = 2\n",
    "c = 2.5\n",
    "d = True\n",
    "e = False"
   ]
  },
  {
   "cell_type": "code",
   "execution_count": 52,
   "id": "0eebc485-c161-4132-a32b-853405954ca6",
   "metadata": {},
   "outputs": [
    {
     "name": "stdout",
     "output_type": "stream",
     "text": [
      "<class 'str'>\n"
     ]
    }
   ],
   "source": [
    "print(type(a))"
   ]
  },
  {
   "cell_type": "code",
   "execution_count": 53,
   "id": "2335d5a0-4cd4-4069-9e0e-47f0abadb958",
   "metadata": {},
   "outputs": [
    {
     "name": "stdout",
     "output_type": "stream",
     "text": [
      "<class 'int'>\n"
     ]
    }
   ],
   "source": [
    "print(type(b))"
   ]
  },
  {
   "cell_type": "code",
   "execution_count": 54,
   "id": "86d546bd-60d5-4cf8-8058-7c9c2993f331",
   "metadata": {},
   "outputs": [
    {
     "name": "stdout",
     "output_type": "stream",
     "text": [
      "<class 'float'>\n"
     ]
    }
   ],
   "source": [
    "print(type(c))"
   ]
  },
  {
   "cell_type": "code",
   "execution_count": 55,
   "id": "c86126ed-fe37-4cba-8355-3f2179c8c1d6",
   "metadata": {},
   "outputs": [
    {
     "name": "stdout",
     "output_type": "stream",
     "text": [
      "<class 'bool'>\n"
     ]
    }
   ],
   "source": [
    "print(type(d))"
   ]
  },
  {
   "cell_type": "code",
   "execution_count": 56,
   "id": "f77b50a0-9f24-49b1-82f7-73de17da43af",
   "metadata": {},
   "outputs": [
    {
     "name": "stdout",
     "output_type": "stream",
     "text": [
      "<class 'bool'>\n"
     ]
    }
   ],
   "source": [
    "print(type(e))"
   ]
  },
  {
   "cell_type": "code",
   "execution_count": null,
   "id": "a0d5f378-4a7a-4469-b79a-0858c331cf07",
   "metadata": {},
   "outputs": [],
   "source": []
  }
 ],
 "metadata": {
  "kernelspec": {
   "display_name": "Python 3 (ipykernel)",
   "language": "python",
   "name": "python3"
  },
  "language_info": {
   "codemirror_mode": {
    "name": "ipython",
    "version": 3
   },
   "file_extension": ".py",
   "mimetype": "text/x-python",
   "name": "python",
   "nbconvert_exporter": "python",
   "pygments_lexer": "ipython3",
   "version": "3.11.7"
  }
 },
 "nbformat": 4,
 "nbformat_minor": 5
}
