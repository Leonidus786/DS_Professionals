{
 "cells": [
  {
   "attachments": {},
   "cell_type": "markdown",
   "id": "70289c4f-66a5-4e10-8fe2-23096911c2c2",
   "metadata": {},
   "source": [
    "# Data Types (string, float, int, complex, list, tuple, dict, set, bool, mantissa)"
   ]
  },
  {
   "cell_type": "code",
   "execution_count": 1,
   "id": "083dea0b-f53c-4afb-9945-219e2b9cbe7d",
   "metadata": {},
   "outputs": [
    {
     "name": "stdout",
     "output_type": "stream",
     "text": [
      "<class 'str'>\n"
     ]
    }
   ],
   "source": [
    "print(type(\"Abhishek\"))"
   ]
  },
  {
   "cell_type": "code",
   "execution_count": 5,
   "id": "620e391c-b3b7-4a00-aa34-d62c45039821",
   "metadata": {},
   "outputs": [
    {
     "name": "stdout",
     "output_type": "stream",
     "text": [
      "<class 'str'>\n"
     ]
    }
   ],
   "source": [
    "print(type('abhishek'))"
   ]
  },
  {
   "cell_type": "code",
   "execution_count": 2,
   "id": "2771a2f9-4091-4ccd-b00d-2c467bf4a0e3",
   "metadata": {},
   "outputs": [
    {
     "name": "stdout",
     "output_type": "stream",
     "text": [
      "<class 'int'>\n"
     ]
    }
   ],
   "source": [
    "print(type(10))"
   ]
  },
  {
   "cell_type": "code",
   "execution_count": 15,
   "id": "e64b8033-96c0-44a7-a955-62574f0cdf7a",
   "metadata": {},
   "outputs": [
    {
     "name": "stdout",
     "output_type": "stream",
     "text": [
      "<class 'float'>\n",
      "<class 'float'>\n",
      "<class 'float'>\n"
     ]
    }
   ],
   "source": [
    "x = 35e3\n",
    "y = 12E4\n",
    "z = -87.7e100\n",
    "\n",
    "print(type(x))\n",
    "print(type(y))\n",
    "print(type(z))"
   ]
  },
  {
   "cell_type": "code",
   "execution_count": 3,
   "id": "30dc3444-220f-471c-b183-512e44f181af",
   "metadata": {
    "scrolled": true
   },
   "outputs": [
    {
     "name": "stdout",
     "output_type": "stream",
     "text": [
      "<class 'float'>\n"
     ]
    }
   ],
   "source": [
    "print(type(55.9))"
   ]
  },
  {
   "cell_type": "code",
   "execution_count": 4,
   "id": "f9ea60c9-0ea5-4ebf-9f59-322dc49ad08a",
   "metadata": {},
   "outputs": [
    {
     "name": "stdout",
     "output_type": "stream",
     "text": [
      "<class 'complex'>\n"
     ]
    }
   ],
   "source": [
    "print(type(2+3j))"
   ]
  },
  {
   "cell_type": "markdown",
   "id": "1be028c9-3d4d-4ce9-9415-d4563af90f41",
   "metadata": {},
   "source": [
    "# sequence --> collection of objects of different datatype."
   ]
  },
  {
   "cell_type": "code",
   "execution_count": 8,
   "id": "b2185ace-9a7c-45af-8624-1c0b40af6557",
   "metadata": {},
   "outputs": [
    {
     "name": "stdout",
     "output_type": "stream",
     "text": [
      "<class 'list'>\n",
      "<class 'list'>\n"
     ]
    }
   ],
   "source": [
    "# List\n",
    "# 1 -- [] --> use square braces and separate each item with comma(,)\n",
    "# 2 -- list() --> use list method to create list with different items\n",
    "\n",
    "print(type([1, 2, 3, 5.9, 4+6j, True, False]))\n",
    "\n",
    "print(type(list(('abhi', \"Arun\", 12))))"
   ]
  },
  {
   "cell_type": "code",
   "execution_count": 9,
   "id": "0dcfe77b-c076-4ed2-9544-eef085d9b3fb",
   "metadata": {},
   "outputs": [
    {
     "name": "stdout",
     "output_type": "stream",
     "text": [
      "<class 'tuple'>\n",
      "<class 'tuple'>\n"
     ]
    }
   ],
   "source": [
    "# Tuple\n",
    "# 1 -- () --> use small/parentheses braces and separate each item with comma(,)\n",
    "# 2 -- tuple() --> use tuple() method to create list with different items\n",
    "\n",
    "print(type((1, 2, 3, 5.9, 4+6j, True, False)))\n",
    "\n",
    "print(type(tuple(('abhi', \"Arun\", 12))))"
   ]
  },
  {
   "cell_type": "code",
   "execution_count": 10,
   "id": "fd48cbde-2adc-4aa1-9691-a5c675e7ead5",
   "metadata": {},
   "outputs": [
    {
     "name": "stdout",
     "output_type": "stream",
     "text": [
      "<class 'dict'>\n"
     ]
    }
   ],
   "source": [
    "# dictionary\n",
    "# 1. - {'key': \"Value\"} -- use this format to create a dictionary in python.\n",
    "# 2. - dict() -- use dict() method to create dictionary. -- Try this during revision.\n",
    "\n",
    "print(type({'1.5':3, \"Name\":'Amit'}))"
   ]
  },
  {
   "cell_type": "code",
   "execution_count": 11,
   "id": "c604bf98-f3e4-44b7-b868-b286e2c9e747",
   "metadata": {},
   "outputs": [
    {
     "name": "stdout",
     "output_type": "stream",
     "text": [
      "<class 'set'>\n",
      "<class 'set'>\n"
     ]
    }
   ],
   "source": [
    "# Set\n",
    "# 1. {} -- use middle braces to create a set and separate values with comma(,).\n",
    "# 2. set() -- use set() method to create a set.\n",
    "\n",
    "print(type({1,2,3.5,6}))\n",
    "print(type(set((1,2,5))))"
   ]
  },
  {
   "cell_type": "code",
   "execution_count": 13,
   "id": "ef8aa8f5-457b-4258-9395-0d57bf496561",
   "metadata": {},
   "outputs": [
    {
     "name": "stdout",
     "output_type": "stream",
     "text": [
      "<class 'bool'>\n",
      "<class 'bool'>\n",
      "<class 'bool'>\n",
      "<class 'bool'>\n"
     ]
    }
   ],
   "source": [
    "# Bolleans -- True, False\n",
    "# bool() -- use this method to create booleans\n",
    "\n",
    "print(type(True))\n",
    "print(type(False))\n",
    "print(type(bool(4)))\n",
    "print(type(bool(0)))"
   ]
  },
  {
   "cell_type": "markdown",
   "id": "b7d374d9-0f6c-405e-835a-f54ce6621b84",
   "metadata": {},
   "source": [
    "# Type Casting -- Type Conversion \n",
    "\n",
    "## to convert the data type of a variable/value.\n",
    "\n",
    "## Note: You cannot convert complex numbers into another number type."
   ]
  },
  {
   "cell_type": "code",
   "execution_count": 16,
   "id": "995f9a5c-c956-48ec-919c-f412db4d11a6",
   "metadata": {},
   "outputs": [
    {
     "name": "stdout",
     "output_type": "stream",
     "text": [
      "<class 'int'>\n"
     ]
    }
   ],
   "source": [
    "x = 20\n",
    "print(type(x))"
   ]
  },
  {
   "cell_type": "code",
   "execution_count": 17,
   "id": "6ce5981a-caa9-4a90-8410-3ba54bc47a87",
   "metadata": {},
   "outputs": [
    {
     "data": {
      "text/plain": [
       "20"
      ]
     },
     "execution_count": 17,
     "metadata": {},
     "output_type": "execute_result"
    }
   ],
   "source": [
    "x"
   ]
  },
  {
   "cell_type": "code",
   "execution_count": 20,
   "id": "8ebed857-c4a5-4b13-a4ac-6e6818455e00",
   "metadata": {},
   "outputs": [],
   "source": [
    "# type conversion\n",
    "x = float(x)"
   ]
  },
  {
   "cell_type": "code",
   "execution_count": 19,
   "id": "05cd28ec-47a4-4ce9-9098-75dc1aeb3d42",
   "metadata": {},
   "outputs": [
    {
     "data": {
      "text/plain": [
       "20.0"
      ]
     },
     "execution_count": 19,
     "metadata": {},
     "output_type": "execute_result"
    }
   ],
   "source": [
    "x"
   ]
  },
  {
   "cell_type": "code",
   "execution_count": 21,
   "id": "d9f9ba80-11a0-431e-a0b7-d3440cb0c3b9",
   "metadata": {},
   "outputs": [],
   "source": [
    "x = str(x)"
   ]
  },
  {
   "cell_type": "code",
   "execution_count": 22,
   "id": "44cdfe64-ef32-4145-91ce-31e2fc705a02",
   "metadata": {},
   "outputs": [
    {
     "data": {
      "text/plain": [
       "'20.0'"
      ]
     },
     "execution_count": 22,
     "metadata": {},
     "output_type": "execute_result"
    }
   ],
   "source": [
    "x"
   ]
  },
  {
   "cell_type": "code",
   "execution_count": 23,
   "id": "1a3d2689-ed64-4e54-a7ae-a8b6884f0add",
   "metadata": {},
   "outputs": [
    {
     "data": {
      "text/plain": [
       "str"
      ]
     },
     "execution_count": 23,
     "metadata": {},
     "output_type": "execute_result"
    }
   ],
   "source": [
    "type(x)"
   ]
  },
  {
   "cell_type": "code",
   "execution_count": null,
   "id": "547f810d-38d9-415c-b306-420b0eb75da2",
   "metadata": {},
   "outputs": [],
   "source": []
  }
 ],
 "metadata": {
  "kernelspec": {
   "display_name": "Python 3 (ipykernel)",
   "language": "python",
   "name": "python3"
  },
  "language_info": {
   "codemirror_mode": {
    "name": "ipython",
    "version": 3
   },
   "file_extension": ".py",
   "mimetype": "text/x-python",
   "name": "python",
   "nbconvert_exporter": "python",
   "pygments_lexer": "ipython3",
   "version": "3.11.7"
  }
 },
 "nbformat": 4,
 "nbformat_minor": 5
}
